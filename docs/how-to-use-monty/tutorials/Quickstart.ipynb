{
  "nbformat": 4,
  "nbformat_minor": 0,
  "metadata": {
    "colab": {
      "provenance": []
    },
    "kernelspec": {
      "name": "python3",
      "display_name": "Python 3"
    },
    "language_info": {
      "name": "python"
    }
  },
  "cells": [
    {
      "cell_type": "markdown",
      "source": [
        "Quickstart notebook for a first time user"
      ],
      "metadata": {
        "id": "izxphDDVdg6P"
      }
    },
    {
      "cell_type": "code",
      "execution_count": null,
      "metadata": {
        "id": "4Dv5tHZ5dZjM"
      },
      "outputs": [],
      "source": []
    },
    {
      "cell_type": "code",
      "source": [],
      "metadata": {
        "id": "wVIENfbadmTD"
      },
      "execution_count": null,
      "outputs": []
    }
  ]
}